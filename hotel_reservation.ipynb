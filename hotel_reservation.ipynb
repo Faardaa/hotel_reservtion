{
 "cells": [
  {
   "cell_type": "code",
   "execution_count": 5,
   "metadata": {},
   "outputs": [
    {
     "name": "stdout",
     "output_type": "stream",
     "text": [
      "************************** Welcome to hotel reservation system **************************\n"
     ]
    }
   ],
   "source": [
    "import sqlite3\n",
    "\n",
    "# Welcome message for the hotel reservation system.\n",
    "print(\"************************** Welcome to hotel reservation system **************************\")\n",
    "\n",
    "class room:\n",
    "    roomList = []  # List to store room objects.\n",
    "\n",
    "    def __init__(self, roomNo, numberOfPeople, availability):\n",
    "        # Initialize a room object.\n",
    "        self.roomNo = roomNo\n",
    "        self.numberOfpeople = numberOfPeople\n",
    "        self.availability = availability\n",
    "        self.roomList.append(self)\n",
    "\n",
    "    @classmethod\n",
    "    def addRoom(cls, roomNo, numberOfPeople, availability):\n",
    "        # Add a room to the room list.\n",
    "        room(roomNo, numberOfPeople, availability)\n",
    "\n",
    "    @classmethod\n",
    "    def printTheRooms(cls):\n",
    "        # Print the details of all rooms in the room list.\n",
    "        for room in cls.roomList:\n",
    "            print(f\"Room number: {room.roomNo}, Number of people: {room.numberOfpeople}, Availability of the room: {room.availability}\")\n",
    "\n",
    "class databaseConnection:\n",
    "    def __init__(self, databaseName, tableName):\n",
    "        # Initialize a database connection.\n",
    "        self.databse = sqlite3.connect(databaseName)\n",
    "        self.cursor = self.databse.cursor()\n",
    "        self.table = tableName\n",
    "        # Create the table if it doesn't exist.\n",
    "        self.cursor.execute(f'CREATE TABLE IF NOT EXISTS {self.table} (ROOM_NO INTEGER PRIMARY KEY AUTOINCREMENT,  NUMBER_OF_PEOPLE INTEGER NOT NULL, ROOM_AVIABILITY INTEGER)')\n",
    "\n",
    "    def fetchTheData(self):\n",
    "        # Fetch data from the database and update the room list.\n",
    "        self.cursor.execute(f\"SELECT * FROM {self.table}\")\n",
    "        result = self.cursor.fetchall()\n",
    "        room.roomList.clear()\n",
    "        for data in result:\n",
    "            room.addRoom(data[0], data[1], data[2])\n",
    "\n",
    "    def addRoomToDatabase(self, numberOfPeople):\n",
    "        # Add a room with the specified number of people to the database.\n",
    "        query1 = f\"INSERT INTO {self.table} (NUMBER_OF_PEOPLE, ROOM_AVIABILITY) VALUES (?, ?)\"\n",
    "        self.cursor.execute(query1, (numberOfPeople, 1))\n",
    "        self.databse.commit()\n",
    "        self.fetchTheData()\n",
    "        print(\"Room added successfully.\")\n",
    "\n",
    "    def reservation(self, roomNo):\n",
    "        # Reserve a room by updating its availability status in the database.\n",
    "        query2 = f\"SELECT ROOM_AVIABILITY FROM {self.table} WHERE ROOM_NO = {roomNo}\"\n",
    "        self.cursor.execute(query2)\n",
    "        isAvailable = self.cursor.fetchone()[0]\n",
    "        if isAvailable == 1:\n",
    "            query3 = f'UPDATE {self.table} SET ROOM_AVIABILITY = 0 WHERE ROOM_NO = {roomNo}'\n",
    "            self.cursor.execute(query3)\n",
    "            self.databse.commit()\n",
    "            self.fetchTheData()\n",
    "            print(\"The reservation is complete.\")\n",
    "        else:\n",
    "            print(\"Room is already reserved.\")\n",
    "\n",
    "    def search(self, numberOfPeople):\n",
    "        # Search for available rooms that can accommodate a specified number of people.\n",
    "        query4 = f'SELECT ROOM_NO FROM {self.table} WHERE NUMBER_OF_PEOPLE = {numberOfPeople}'\n",
    "        self.cursor.execute(query4)\n",
    "        self.databse.commit()\n",
    "        result4 = self.cursor.fetchall()\n",
    "        print(f\"Rooms for {numberOfPeople} people are: \", end=\" \")\n",
    "        for rm in result4:\n",
    "            print(f\"{rm[0]}\", end=\" \")\n",
    "        print(\"\")\n",
    "\n",
    "    def releaseRoom(self, roomNo):\n",
    "        # Release a reserved room by updating its availability status in the database.\n",
    "        query3 = f\"SELECT ROOM_AVIABILITY FROM {self.table} WHERE ROOM_NO = {roomNo}\"\n",
    "        self.cursor.execute(query3)\n",
    "        isAvailable = self.cursor.fetchone()[0]\n",
    "        if isAvailable == 0:\n",
    "            query3 = f'UPDATE {self.table} SET ROOM_AVIABILITY = 1 WHERE ROOM_NO = {roomNo}'\n",
    "            self.cursor.execute(query3)\n",
    "            self.databse.commit()\n",
    "            self.fetchTheData()\n",
    "            print(\"The room is now released.\")\n",
    "        else:\n",
    "            print(\"Room is not reserved.\")\n"
   ]
  },
  {
   "cell_type": "code",
   "execution_count": 6,
   "metadata": {},
   "outputs": [
    {
     "name": "stdout",
     "output_type": "stream",
     "text": [
      "Room added successfully.\n",
      "Rooms for 3 people are:  23 24 \n",
      "The reservation is complete.\n",
      "The room is now released.\n"
     ]
    }
   ],
   "source": [
    "database = databaseConnection(\"reservation_system.db\", \"room\")\n",
    "database.addRoomToDatabase(5)\n",
    "database.search(3)\n",
    "database.reservation(24)\n",
    "database.releaseRoom(24)"
   ]
  }
 ],
 "metadata": {
  "kernelspec": {
   "display_name": "base",
   "language": "python",
   "name": "python3"
  },
  "language_info": {
   "codemirror_mode": {
    "name": "ipython",
    "version": 3
   },
   "file_extension": ".py",
   "mimetype": "text/x-python",
   "name": "python",
   "nbconvert_exporter": "python",
   "pygments_lexer": "ipython3",
   "version": "3.11.3"
  },
  "orig_nbformat": 4
 },
 "nbformat": 4,
 "nbformat_minor": 2
}
